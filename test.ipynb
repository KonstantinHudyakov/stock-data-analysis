{
 "cells": [
  {
   "cell_type": "code",
   "execution_count": 46,
   "metadata": {
    "collapsed": true
   },
   "outputs": [],
   "source": [
    "import numpy as np\n",
    "import pandas as pd\n",
    "import scipy as sp\n",
    "import matplotlib.pyplot as plt\n",
    "import plotly.graph_objects as go\n",
    "import pyfinancialdata\n",
    "from datetime import datetime, timedelta"
   ]
  },
  {
   "cell_type": "code",
   "execution_count": 47,
   "outputs": [
    {
     "data": {
      "text/plain": "                       close     high      low     open  volume    price\ndate                                                                    \n2010-01-03 17:56:00  1.43172  1.43172  1.43172  1.43172       1  1.43172\n2010-01-03 18:02:00  1.43325  1.43325  1.43172  1.43172       4  1.43325\n2010-01-03 18:03:00  1.43278  1.43288  1.43248  1.43288       5  1.43278\n2010-01-03 18:04:00  1.43328  1.43328  1.43328  1.43328       1  1.43328\n2010-01-03 18:05:00  1.43323  1.43323  1.43323  1.43323       1  1.43323",
      "text/html": "<div>\n<style scoped>\n    .dataframe tbody tr th:only-of-type {\n        vertical-align: middle;\n    }\n\n    .dataframe tbody tr th {\n        vertical-align: top;\n    }\n\n    .dataframe thead th {\n        text-align: right;\n    }\n</style>\n<table border=\"1\" class=\"dataframe\">\n  <thead>\n    <tr style=\"text-align: right;\">\n      <th></th>\n      <th>close</th>\n      <th>high</th>\n      <th>low</th>\n      <th>open</th>\n      <th>volume</th>\n      <th>price</th>\n    </tr>\n    <tr>\n      <th>date</th>\n      <th></th>\n      <th></th>\n      <th></th>\n      <th></th>\n      <th></th>\n      <th></th>\n    </tr>\n  </thead>\n  <tbody>\n    <tr>\n      <th>2010-01-03 17:56:00</th>\n      <td>1.43172</td>\n      <td>1.43172</td>\n      <td>1.43172</td>\n      <td>1.43172</td>\n      <td>1</td>\n      <td>1.43172</td>\n    </tr>\n    <tr>\n      <th>2010-01-03 18:02:00</th>\n      <td>1.43325</td>\n      <td>1.43325</td>\n      <td>1.43172</td>\n      <td>1.43172</td>\n      <td>4</td>\n      <td>1.43325</td>\n    </tr>\n    <tr>\n      <th>2010-01-03 18:03:00</th>\n      <td>1.43278</td>\n      <td>1.43288</td>\n      <td>1.43248</td>\n      <td>1.43288</td>\n      <td>5</td>\n      <td>1.43278</td>\n    </tr>\n    <tr>\n      <th>2010-01-03 18:04:00</th>\n      <td>1.43328</td>\n      <td>1.43328</td>\n      <td>1.43328</td>\n      <td>1.43328</td>\n      <td>1</td>\n      <td>1.43328</td>\n    </tr>\n    <tr>\n      <th>2010-01-03 18:05:00</th>\n      <td>1.43323</td>\n      <td>1.43323</td>\n      <td>1.43323</td>\n      <td>1.43323</td>\n      <td>1</td>\n      <td>1.43323</td>\n    </tr>\n  </tbody>\n</table>\n</div>"
     },
     "execution_count": 47,
     "metadata": {},
     "output_type": "execute_result"
    }
   ],
   "source": [
    "raw_data = pyfinancialdata.get(provider='oanda', instrument='EUR_USD', year=2010)\n",
    "raw_data.head()"
   ],
   "metadata": {
    "collapsed": false,
    "pycharm": {
     "name": "#%%\n"
    }
   }
  },
  {
   "cell_type": "code",
   "execution_count": 48,
   "outputs": [
    {
     "data": {
      "text/plain": "                 date    close     high      low     open  volume\n0 2010-01-03 17:56:00  1.43172  1.43172  1.43172  1.43172       1\n1 2010-01-03 18:02:00  1.43325  1.43325  1.43172  1.43172       4\n2 2010-01-03 18:03:00  1.43278  1.43288  1.43248  1.43288       5\n3 2010-01-03 18:04:00  1.43328  1.43328  1.43328  1.43328       1\n4 2010-01-03 18:05:00  1.43323  1.43323  1.43323  1.43323       1",
      "text/html": "<div>\n<style scoped>\n    .dataframe tbody tr th:only-of-type {\n        vertical-align: middle;\n    }\n\n    .dataframe tbody tr th {\n        vertical-align: top;\n    }\n\n    .dataframe thead th {\n        text-align: right;\n    }\n</style>\n<table border=\"1\" class=\"dataframe\">\n  <thead>\n    <tr style=\"text-align: right;\">\n      <th></th>\n      <th>date</th>\n      <th>close</th>\n      <th>high</th>\n      <th>low</th>\n      <th>open</th>\n      <th>volume</th>\n    </tr>\n  </thead>\n  <tbody>\n    <tr>\n      <th>0</th>\n      <td>2010-01-03 17:56:00</td>\n      <td>1.43172</td>\n      <td>1.43172</td>\n      <td>1.43172</td>\n      <td>1.43172</td>\n      <td>1</td>\n    </tr>\n    <tr>\n      <th>1</th>\n      <td>2010-01-03 18:02:00</td>\n      <td>1.43325</td>\n      <td>1.43325</td>\n      <td>1.43172</td>\n      <td>1.43172</td>\n      <td>4</td>\n    </tr>\n    <tr>\n      <th>2</th>\n      <td>2010-01-03 18:03:00</td>\n      <td>1.43278</td>\n      <td>1.43288</td>\n      <td>1.43248</td>\n      <td>1.43288</td>\n      <td>5</td>\n    </tr>\n    <tr>\n      <th>3</th>\n      <td>2010-01-03 18:04:00</td>\n      <td>1.43328</td>\n      <td>1.43328</td>\n      <td>1.43328</td>\n      <td>1.43328</td>\n      <td>1</td>\n    </tr>\n    <tr>\n      <th>4</th>\n      <td>2010-01-03 18:05:00</td>\n      <td>1.43323</td>\n      <td>1.43323</td>\n      <td>1.43323</td>\n      <td>1.43323</td>\n      <td>1</td>\n    </tr>\n  </tbody>\n</table>\n</div>"
     },
     "execution_count": 48,
     "metadata": {},
     "output_type": "execute_result"
    }
   ],
   "source": [
    "def add_date_column(data):\n",
    "    dates = pd.DataFrame(data.index.values, columns=['date'])\n",
    "    size = len(data)\n",
    "    data.index = np.arange(0, size, 1)\n",
    "    return dates.join(data)\n",
    "\n",
    "data = add_date_column(raw_data.drop('price', 1))\n",
    "data.head()"
   ],
   "metadata": {
    "collapsed": false,
    "pycharm": {
     "name": "#%%\n"
    }
   }
  },
  {
   "cell_type": "code",
   "execution_count": 49,
   "outputs": [],
   "source": [
    "err = 0.0000001\n",
    "\n",
    "def normalize_data(data):\n",
    "    data['close'] = (data['close'] - data['close'].min()) / (data['close'].max() - data['close'].min())\n",
    "    data['high'] = (data['high'] - data['high'].min()) / (data['high'].max() - data['high'].min())\n",
    "    data['low'] = (data['low'] - data['low'].min()) / (data['low'].max() - data['low'].min())\n",
    "    data['open'] = (data['open'] - data['open'].min()) / (data['open'].max() - data['open'].min())\n",
    "    data['volume'] = (data['volume'] - data['volume'].min()) / (data['volume'].max() - data['volume'].min())\n",
    "    return data\n",
    "\n",
    "def create_train_data(data, interval_len, pred_interval_minutes):\n",
    "    values = []\n",
    "    labels = []\n",
    "    pred_interval = timedelta(minutes=pred_interval_minutes)\n",
    "    n = data.shape[0]\n",
    "    for start in range(n - interval_len):\n",
    "        if is_sequential(data[start : start + interval_len]['date']):\n",
    "            last_ind = start + interval_len - 1\n",
    "            last_candle = data.iloc[last_ind]\n",
    "            pred_candle = find_candle_to_predict(data, last_ind, last_candle['date'] + pred_interval)\n",
    "            if (pred_candle is not None) and (is_price_changed(last_candle, pred_candle)):\n",
    "                values.append(collect_data(data[start : start + interval_len]))\n",
    "                if last_candle['close'] < pred_candle['close']:\n",
    "                    labels.append(np.array([1, 0], dtype=float))\n",
    "                else:\n",
    "                    labels.append(np.array([0, 1], dtype=float))\n",
    "    return np.array(values), np.array(labels)\n",
    "\n",
    "\n",
    "def is_sequential(data):\n",
    "    cur = data.iloc[0]\n",
    "    one_min = timedelta(minutes=1)\n",
    "    res = True\n",
    "    for i in range(1, len(data)):\n",
    "        if cur + one_min != data.iloc[i]:\n",
    "            res = False\n",
    "            break\n",
    "        cur = data.iloc[i]\n",
    "    return res\n",
    "\n",
    "def find_candle_to_predict(data, from_ind, time):\n",
    "    i = from_ind\n",
    "    res = None\n",
    "    while i < data.shape[0]:\n",
    "        if data.iloc[i]['date'] == time:\n",
    "            res = data.iloc[i]\n",
    "            break\n",
    "        elif data.iloc[i]['date'] > time:\n",
    "            break\n",
    "        i += 1\n",
    "    return res\n",
    "\n",
    "def is_price_changed(candle1, candle2):\n",
    "    return abs(candle1['close'] - candle2['close']) > err\n",
    "\n",
    "def collect_data(data):\n",
    "    data = data[['close', 'high', 'low', 'open', 'volume']].values\n",
    "    return data.ravel()\n",
    "\n",
    "# values, labels = create_train_data(data, interval_len=10, pred_interval_minutes=15)"
   ],
   "metadata": {
    "collapsed": false,
    "pycharm": {
     "name": "#%%\n"
    }
   }
  },
  {
   "cell_type": "code",
   "execution_count": 50,
   "outputs": [],
   "source": [
    "norm_data = normalize_data(data)\n",
    "values, labels = create_train_data(norm_data, interval_len=10, pred_interval_minutes=15)"
   ],
   "metadata": {
    "collapsed": false,
    "pycharm": {
     "name": "#%%\n"
    }
   }
  },
  {
   "cell_type": "code",
   "execution_count": 63,
   "outputs": [],
   "source": [
    "all_data = np.hstack((values, labels))\n",
    "df = pd.DataFrame(data=all_data, columns=np.hstack((np.arange(0, 50, 1), np.array(['up', 'down']))))\n",
    "df.head()\n",
    "df.to_csv('resources/EUR_USD_2010.csv')"
   ],
   "metadata": {
    "collapsed": false,
    "pycharm": {
     "name": "#%%\n"
    }
   }
  },
  {
   "cell_type": "code",
   "execution_count": 51,
   "outputs": [],
   "source": [
    "# def plot_candles(candles):\n",
    "#     fig = go.Figure(data=[go.Candlestick(x=candles['date'], open=candles['open'], high=candles['high'],\n",
    "#                                          low=candles['low'], close=candles['close'])],\n",
    "#                     layout=go.Layout(height=600, width=1000))\n",
    "#     fig.show()\n",
    "#\n",
    "# plot_candles(data[9000:10000])\n"
   ],
   "metadata": {
    "collapsed": false,
    "pycharm": {
     "name": "#%%\n"
    }
   }
  }
 ],
 "metadata": {
  "kernelspec": {
   "display_name": "Python 3",
   "language": "python",
   "name": "python3"
  },
  "language_info": {
   "codemirror_mode": {
    "name": "ipython",
    "version": 2
   },
   "file_extension": ".py",
   "mimetype": "text/x-python",
   "name": "python",
   "nbconvert_exporter": "python",
   "pygments_lexer": "ipython2",
   "version": "2.7.6"
  }
 },
 "nbformat": 4,
 "nbformat_minor": 0
}