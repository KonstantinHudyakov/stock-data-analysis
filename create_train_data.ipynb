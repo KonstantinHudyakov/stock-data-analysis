{
 "cells": [
  {
   "cell_type": "code",
   "execution_count": 10,
   "metadata": {
    "collapsed": true
   },
   "outputs": [],
   "source": [
    "import numpy as np\n",
    "import pandas as pd\n",
    "import scipy as sp\n",
    "import matplotlib.pyplot as plt\n",
    "import plotly.graph_objects as go\n",
    "import pyfinancialdata\n",
    "from datetime import datetime, timedelta"
   ]
  },
  {
   "cell_type": "code",
   "execution_count": 28,
   "outputs": [
    {
     "data": {
      "text/plain": "                       close     high      low     open  volume\ndate                                                           \n2010-01-03 17:55:00  1.43172  1.43172  1.43172  1.43172       1\n2010-01-03 18:00:00  1.43328  1.43328  1.43172  1.43172      10\n2010-01-03 18:05:00  1.43150  1.43425  1.43150  1.43323      17\n2010-01-03 18:10:00  1.43110  1.43150  1.43105  1.43105       9\n2010-01-03 18:15:00  1.43155  1.43155  1.43150  1.43150       2",
      "text/html": "<div>\n<style scoped>\n    .dataframe tbody tr th:only-of-type {\n        vertical-align: middle;\n    }\n\n    .dataframe tbody tr th {\n        vertical-align: top;\n    }\n\n    .dataframe thead th {\n        text-align: right;\n    }\n</style>\n<table border=\"1\" class=\"dataframe\">\n  <thead>\n    <tr style=\"text-align: right;\">\n      <th></th>\n      <th>close</th>\n      <th>high</th>\n      <th>low</th>\n      <th>open</th>\n      <th>volume</th>\n    </tr>\n    <tr>\n      <th>date</th>\n      <th></th>\n      <th></th>\n      <th></th>\n      <th></th>\n      <th></th>\n    </tr>\n  </thead>\n  <tbody>\n    <tr>\n      <th>2010-01-03 17:55:00</th>\n      <td>1.43172</td>\n      <td>1.43172</td>\n      <td>1.43172</td>\n      <td>1.43172</td>\n      <td>1</td>\n    </tr>\n    <tr>\n      <th>2010-01-03 18:00:00</th>\n      <td>1.43328</td>\n      <td>1.43328</td>\n      <td>1.43172</td>\n      <td>1.43172</td>\n      <td>10</td>\n    </tr>\n    <tr>\n      <th>2010-01-03 18:05:00</th>\n      <td>1.43150</td>\n      <td>1.43425</td>\n      <td>1.43150</td>\n      <td>1.43323</td>\n      <td>17</td>\n    </tr>\n    <tr>\n      <th>2010-01-03 18:10:00</th>\n      <td>1.43110</td>\n      <td>1.43150</td>\n      <td>1.43105</td>\n      <td>1.43105</td>\n      <td>9</td>\n    </tr>\n    <tr>\n      <th>2010-01-03 18:15:00</th>\n      <td>1.43155</td>\n      <td>1.43155</td>\n      <td>1.43150</td>\n      <td>1.43150</td>\n      <td>2</td>\n    </tr>\n  </tbody>\n</table>\n</div>"
     },
     "execution_count": 28,
     "metadata": {},
     "output_type": "execute_result"
    }
   ],
   "source": [
    "candle_len = 5\n",
    "# raw_data = pyfinancialdata.get(provider='oanda', instrument='EUR_USD', year=2010, time_group=f\"{candle_len}min\", price_calculation=False)\n",
    "raw_data = pyfinancialdata.get_multi_year(provider='oanda', instrument='EUR_USD', years=[2010, 2011, 2012, 2013, 2014, 2015, 2016, 2017, 2018, 2019], time_group=f\"{candle_len}min\", price_calculation=False)\n",
    "raw_data.head()"
   ],
   "metadata": {
    "collapsed": false,
    "pycharm": {
     "name": "#%%\n"
    }
   }
  },
  {
   "cell_type": "code",
   "execution_count": 29,
   "outputs": [
    {
     "data": {
      "text/plain": "                 date    close     high      low     open  volume\n0 2010-01-03 17:55:00  1.43172  1.43172  1.43172  1.43172       1\n1 2010-01-03 18:00:00  1.43328  1.43328  1.43172  1.43172      10\n2 2010-01-03 18:05:00  1.43150  1.43425  1.43150  1.43323      17\n3 2010-01-03 18:10:00  1.43110  1.43150  1.43105  1.43105       9\n4 2010-01-03 18:15:00  1.43155  1.43155  1.43150  1.43150       2",
      "text/html": "<div>\n<style scoped>\n    .dataframe tbody tr th:only-of-type {\n        vertical-align: middle;\n    }\n\n    .dataframe tbody tr th {\n        vertical-align: top;\n    }\n\n    .dataframe thead th {\n        text-align: right;\n    }\n</style>\n<table border=\"1\" class=\"dataframe\">\n  <thead>\n    <tr style=\"text-align: right;\">\n      <th></th>\n      <th>date</th>\n      <th>close</th>\n      <th>high</th>\n      <th>low</th>\n      <th>open</th>\n      <th>volume</th>\n    </tr>\n  </thead>\n  <tbody>\n    <tr>\n      <th>0</th>\n      <td>2010-01-03 17:55:00</td>\n      <td>1.43172</td>\n      <td>1.43172</td>\n      <td>1.43172</td>\n      <td>1.43172</td>\n      <td>1</td>\n    </tr>\n    <tr>\n      <th>1</th>\n      <td>2010-01-03 18:00:00</td>\n      <td>1.43328</td>\n      <td>1.43328</td>\n      <td>1.43172</td>\n      <td>1.43172</td>\n      <td>10</td>\n    </tr>\n    <tr>\n      <th>2</th>\n      <td>2010-01-03 18:05:00</td>\n      <td>1.43150</td>\n      <td>1.43425</td>\n      <td>1.43150</td>\n      <td>1.43323</td>\n      <td>17</td>\n    </tr>\n    <tr>\n      <th>3</th>\n      <td>2010-01-03 18:10:00</td>\n      <td>1.43110</td>\n      <td>1.43150</td>\n      <td>1.43105</td>\n      <td>1.43105</td>\n      <td>9</td>\n    </tr>\n    <tr>\n      <th>4</th>\n      <td>2010-01-03 18:15:00</td>\n      <td>1.43155</td>\n      <td>1.43155</td>\n      <td>1.43150</td>\n      <td>1.43150</td>\n      <td>2</td>\n    </tr>\n  </tbody>\n</table>\n</div>"
     },
     "execution_count": 29,
     "metadata": {},
     "output_type": "execute_result"
    }
   ],
   "source": [
    "def add_date_column(data):\n",
    "    dates = pd.DataFrame(data.index.values, columns=['date'])\n",
    "    size = len(data)\n",
    "    data.index = np.arange(0, size, 1)\n",
    "    return dates.join(data)\n",
    "\n",
    "data = add_date_column(raw_data)\n",
    "data = data.drop(data[np.isnan(data['close'])].index)\n",
    "data.head()"
   ],
   "metadata": {
    "collapsed": false,
    "pycharm": {
     "name": "#%%\n"
    }
   }
  },
  {
   "cell_type": "code",
   "execution_count": 30,
   "outputs": [],
   "source": [
    "def transform_data(data):\n",
    "    values = []\n",
    "    for i in range(data.shape[0]):\n",
    "        cur = data.iloc[i]\n",
    "        open = cur['open']\n",
    "        high = cur['high']\n",
    "        close = cur['close']\n",
    "        low = cur['low']\n",
    "        values.append([cur['date'], high / open, low / open, close / open, cur['volume'], close])\n",
    "    return pd.DataFrame(values, columns=['date', 'high_p', 'low_p', 'close_p', 'volume', 'close'])\n",
    "\n",
    "transformed_data = transform_data(data)"
   ],
   "metadata": {
    "collapsed": false,
    "pycharm": {
     "name": "#%%\n"
    }
   }
  },
  {
   "cell_type": "code",
   "execution_count": 31,
   "outputs": [],
   "source": [
    "err = 0.0000001\n",
    "\n",
    "def normalize_and_clear(data):\n",
    "    high_mean = data['high_p'].mean()\n",
    "    low_mean = data['low_p'].mean()\n",
    "    close_mean = data['close_p'].mean()\n",
    "    volume_mean = data['volume'].mean()\n",
    "    high_std = data['high_p'].std()\n",
    "    low_std = data['low_p'].std()\n",
    "    close_std = data['close_p'].std()\n",
    "    volume_std = data['volume'].std()\n",
    "    data = data.drop(data[(abs(data['high_p'] - high_mean) > 3 * high_std)\\\n",
    "                | (abs(data['low_p'] - low_mean) > 3 * low_std)\\\n",
    "                | (abs(data['close_p'] - close_mean) > 3 * close_std)\\\n",
    "                | (abs(data['volume'] - volume_mean) > 3 * volume_std)].index)\n",
    "    data['high_p'] = (data['high_p'] - data['high_p'].min()) / (data['high_p'].max() - data['high_p'].min())\n",
    "    data['low_p'] = (data['low_p'] - data['low_p'].min()) / (data['low_p'].max() - data['low_p'].min())\n",
    "    data['close_p'] = (data['close_p'] - data['close_p'].min()) / (data['close_p'].max() - data['close_p'].min())\n",
    "    data['volume'] = (data['volume'] - data['volume'].min()) / (data['volume'].max() - data['volume'].min())\n",
    "    return data\n",
    "\n",
    "def create_train_data(data, interval_len, pred_interval_minutes):\n",
    "    values = []\n",
    "    labels = []\n",
    "    pred_interval = timedelta(minutes=pred_interval_minutes)\n",
    "    n = data.shape[0]\n",
    "    for start in range(n - interval_len):\n",
    "        if is_sequential(data[start : start + interval_len]['date']):\n",
    "            last_ind = start + interval_len - 1\n",
    "            last_candle = data.iloc[last_ind]\n",
    "            try:\n",
    "                pred_candle = data.loc[data['date'] == last_candle['date'] + pred_interval]\n",
    "            except KeyError:\n",
    "                continue\n",
    "            if pred_candle.shape[0] != 1:\n",
    "                continue\n",
    "            pred_candle = pred_candle.iloc[0]\n",
    "            if is_price_changed(last_candle, pred_candle):\n",
    "                values.append(collect_data(data[start : start + interval_len]))\n",
    "                if last_candle['close'] < pred_candle['close']:\n",
    "                    labels.append(np.array([1, 0], dtype=float))\n",
    "                else:\n",
    "                    labels.append(np.array([0, 1], dtype=float))\n",
    "    return np.array(values), np.array(labels)\n",
    "\n",
    "\n",
    "def is_sequential(data):\n",
    "    n = len(data)\n",
    "    first = data.iloc[0]\n",
    "    last = data.iloc[n - 1]\n",
    "    return (first + timedelta(minutes = n * candle_len)) == last\n",
    "\n",
    "def is_price_changed(candle1, candle2):\n",
    "    return abs(candle1['close'] - candle2['close']) > err\n",
    "\n",
    "def collect_data(data):\n",
    "    values = []\n",
    "    for i in range(data.shape[0]):\n",
    "        cur = data.iloc[i]\n",
    "        values.append(cur['high_p'])\n",
    "        values.append(cur['low_p'])\n",
    "        values.append(cur['close_p'])\n",
    "        values.append(cur['volume'])\n",
    "    return values"
   ],
   "metadata": {
    "collapsed": false,
    "pycharm": {
     "name": "#%%\n"
    }
   }
  },
  {
   "cell_type": "code",
   "execution_count": 32,
   "outputs": [],
   "source": [
    "norm_data = normalize_and_clear(transformed_data)\n",
    "values, labels = create_train_data(norm_data, interval_len=10, pred_interval_minutes=15)"
   ],
   "metadata": {
    "collapsed": false,
    "pycharm": {
     "name": "#%%\n"
    }
   }
  },
  {
   "cell_type": "code",
   "execution_count": 33,
   "outputs": [
    {
     "data": {
      "text/plain": "          0         1         2         3         4         5         6  \\\n0  0.000000  0.064327  0.225133  0.132626  0.359389  0.943263  0.678927   \n1  0.359389  0.943263  0.678927  0.094164  0.110546  0.659689  0.415038   \n2  0.110546  0.659689  0.415038  0.090186  0.117471  0.836911  0.415026   \n3  0.117471  0.836911  0.415026  0.054377  0.635815  1.000000  0.819669   \n4  0.635815  1.000000  0.819669  0.049072  0.041440  0.978738  0.510012   \n\n          7         8         9  ...        32        33        34        35  \\\n0  0.094164  0.110546  0.659689  ...  0.000000  0.419183  0.263994  0.157825   \n1  0.090186  0.117471  0.836911  ...  0.055193  0.844248  0.418667  0.061008   \n2  0.054377  0.635815  1.000000  ...  0.407119  0.879626  0.650530  0.094164   \n3  0.049072  0.041440  0.978738  ...  0.689811  0.971686  0.797990  0.155172   \n4  0.015915  0.531796  1.000000  ...  0.082726  0.278432  0.137927  0.156499   \n\n         36        37        38        39   up  down  \n0  0.055193  0.844248  0.418667  0.061008  1.0   0.0  \n1  0.407119  0.879626  0.650530  0.094164  0.0   1.0  \n2  0.689811  0.971686  0.797990  0.155172  0.0   1.0  \n3  0.082726  0.278432  0.137927  0.156499  1.0   0.0  \n4  0.068986  0.730997  0.411649  0.128647  1.0   0.0  \n\n[5 rows x 42 columns]",
      "text/html": "<div>\n<style scoped>\n    .dataframe tbody tr th:only-of-type {\n        vertical-align: middle;\n    }\n\n    .dataframe tbody tr th {\n        vertical-align: top;\n    }\n\n    .dataframe thead th {\n        text-align: right;\n    }\n</style>\n<table border=\"1\" class=\"dataframe\">\n  <thead>\n    <tr style=\"text-align: right;\">\n      <th></th>\n      <th>0</th>\n      <th>1</th>\n      <th>2</th>\n      <th>3</th>\n      <th>4</th>\n      <th>5</th>\n      <th>6</th>\n      <th>7</th>\n      <th>8</th>\n      <th>9</th>\n      <th>...</th>\n      <th>32</th>\n      <th>33</th>\n      <th>34</th>\n      <th>35</th>\n      <th>36</th>\n      <th>37</th>\n      <th>38</th>\n      <th>39</th>\n      <th>up</th>\n      <th>down</th>\n    </tr>\n  </thead>\n  <tbody>\n    <tr>\n      <th>0</th>\n      <td>0.000000</td>\n      <td>0.064327</td>\n      <td>0.225133</td>\n      <td>0.132626</td>\n      <td>0.359389</td>\n      <td>0.943263</td>\n      <td>0.678927</td>\n      <td>0.094164</td>\n      <td>0.110546</td>\n      <td>0.659689</td>\n      <td>...</td>\n      <td>0.000000</td>\n      <td>0.419183</td>\n      <td>0.263994</td>\n      <td>0.157825</td>\n      <td>0.055193</td>\n      <td>0.844248</td>\n      <td>0.418667</td>\n      <td>0.061008</td>\n      <td>1.0</td>\n      <td>0.0</td>\n    </tr>\n    <tr>\n      <th>1</th>\n      <td>0.359389</td>\n      <td>0.943263</td>\n      <td>0.678927</td>\n      <td>0.094164</td>\n      <td>0.110546</td>\n      <td>0.659689</td>\n      <td>0.415038</td>\n      <td>0.090186</td>\n      <td>0.117471</td>\n      <td>0.836911</td>\n      <td>...</td>\n      <td>0.055193</td>\n      <td>0.844248</td>\n      <td>0.418667</td>\n      <td>0.061008</td>\n      <td>0.407119</td>\n      <td>0.879626</td>\n      <td>0.650530</td>\n      <td>0.094164</td>\n      <td>0.0</td>\n      <td>1.0</td>\n    </tr>\n    <tr>\n      <th>2</th>\n      <td>0.110546</td>\n      <td>0.659689</td>\n      <td>0.415038</td>\n      <td>0.090186</td>\n      <td>0.117471</td>\n      <td>0.836911</td>\n      <td>0.415026</td>\n      <td>0.054377</td>\n      <td>0.635815</td>\n      <td>1.000000</td>\n      <td>...</td>\n      <td>0.407119</td>\n      <td>0.879626</td>\n      <td>0.650530</td>\n      <td>0.094164</td>\n      <td>0.689811</td>\n      <td>0.971686</td>\n      <td>0.797990</td>\n      <td>0.155172</td>\n      <td>0.0</td>\n      <td>1.0</td>\n    </tr>\n    <tr>\n      <th>3</th>\n      <td>0.117471</td>\n      <td>0.836911</td>\n      <td>0.415026</td>\n      <td>0.054377</td>\n      <td>0.635815</td>\n      <td>1.000000</td>\n      <td>0.819669</td>\n      <td>0.049072</td>\n      <td>0.041440</td>\n      <td>0.978738</td>\n      <td>...</td>\n      <td>0.689811</td>\n      <td>0.971686</td>\n      <td>0.797990</td>\n      <td>0.155172</td>\n      <td>0.082726</td>\n      <td>0.278432</td>\n      <td>0.137927</td>\n      <td>0.156499</td>\n      <td>1.0</td>\n      <td>0.0</td>\n    </tr>\n    <tr>\n      <th>4</th>\n      <td>0.635815</td>\n      <td>1.000000</td>\n      <td>0.819669</td>\n      <td>0.049072</td>\n      <td>0.041440</td>\n      <td>0.978738</td>\n      <td>0.510012</td>\n      <td>0.015915</td>\n      <td>0.531796</td>\n      <td>1.000000</td>\n      <td>...</td>\n      <td>0.082726</td>\n      <td>0.278432</td>\n      <td>0.137927</td>\n      <td>0.156499</td>\n      <td>0.068986</td>\n      <td>0.730997</td>\n      <td>0.411649</td>\n      <td>0.128647</td>\n      <td>1.0</td>\n      <td>0.0</td>\n    </tr>\n  </tbody>\n</table>\n<p>5 rows × 42 columns</p>\n</div>"
     },
     "execution_count": 33,
     "metadata": {},
     "output_type": "execute_result"
    }
   ],
   "source": [
    "all_data = np.hstack((values, labels))\n",
    "df = pd.DataFrame(data=all_data, columns=np.hstack((np.arange(0, values.shape[1], 1), np.array(['up', 'down']))))\n",
    "df.head()"
   ],
   "metadata": {
    "collapsed": false,
    "pycharm": {
     "name": "#%%\n"
    }
   }
  },
  {
   "cell_type": "code",
   "execution_count": 34,
   "outputs": [],
   "source": [
    "df.to_csv('resources/EUR_USD_2010-2019_c5min_10_pred15min.csv')"
   ],
   "metadata": {
    "collapsed": false,
    "pycharm": {
     "name": "#%%\n"
    }
   }
  },
  {
   "cell_type": "code",
   "execution_count": 51,
   "outputs": [],
   "source": [
    "# def plot_candles(candles):\n",
    "#     fig = go.Figure(data=[go.Candlestick(x=candles['date'], open=candles['open'], high=candles['high'],\n",
    "#                                          low=candles['low'], close=candles['close'])],\n",
    "#                     layout=go.Layout(height=600, width=1000))\n",
    "#     fig.show()\n",
    "#\n",
    "# plot_candles(data[9000:10000])\n"
   ],
   "metadata": {
    "collapsed": false,
    "pycharm": {
     "name": "#%%\n"
    }
   }
  }
 ],
 "metadata": {
  "kernelspec": {
   "display_name": "Python 3",
   "language": "python",
   "name": "python3"
  },
  "language_info": {
   "codemirror_mode": {
    "name": "ipython",
    "version": 2
   },
   "file_extension": ".py",
   "mimetype": "text/x-python",
   "name": "python",
   "nbconvert_exporter": "python",
   "pygments_lexer": "ipython2",
   "version": "2.7.6"
  }
 },
 "nbformat": 4,
 "nbformat_minor": 0
}