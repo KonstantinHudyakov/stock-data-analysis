{
 "cells": [
  {
   "cell_type": "code",
   "execution_count": 2,
   "metadata": {
    "collapsed": true
   },
   "outputs": [],
   "source": [
    "import numpy as np\n",
    "import pandas as pd\n",
    "import matplotlib.pyplot as plt\n",
    "import matplotlib.dates as mpl_dates\n",
    "import plotly.graph_objects as go\n",
    "from datetime import datetime, timedelta"
   ]
  },
  {
   "cell_type": "code",
   "execution_count": 45,
   "outputs": [
    {
     "data": {
      "text/plain": "                 date       open       high        low      close       vol\n0 2012-06-19 17:30:00  11.150000  11.746667  11.091667  11.638333  23491488\n1 2012-06-20 17:30:00  11.580000  11.591650  11.268333  11.359833  22636368\n2 2012-06-21 17:30:00  11.376667  11.406667  10.958333  10.973333  14863914\n3 2012-06-22 17:30:00  11.040000  11.378333  10.950000  11.310000  13866198\n4 2012-06-25 17:30:00  11.301667  11.588333  11.066667  11.171667  25099830",
      "text/html": "<div>\n<style scoped>\n    .dataframe tbody tr th:only-of-type {\n        vertical-align: middle;\n    }\n\n    .dataframe tbody tr th {\n        vertical-align: top;\n    }\n\n    .dataframe thead th {\n        text-align: right;\n    }\n</style>\n<table border=\"1\" class=\"dataframe\">\n  <thead>\n    <tr style=\"text-align: right;\">\n      <th></th>\n      <th>date</th>\n      <th>open</th>\n      <th>high</th>\n      <th>low</th>\n      <th>close</th>\n      <th>vol</th>\n    </tr>\n  </thead>\n  <tbody>\n    <tr>\n      <th>0</th>\n      <td>2012-06-19 17:30:00</td>\n      <td>11.150000</td>\n      <td>11.746667</td>\n      <td>11.091667</td>\n      <td>11.638333</td>\n      <td>23491488</td>\n    </tr>\n    <tr>\n      <th>1</th>\n      <td>2012-06-20 17:30:00</td>\n      <td>11.580000</td>\n      <td>11.591650</td>\n      <td>11.268333</td>\n      <td>11.359833</td>\n      <td>22636368</td>\n    </tr>\n    <tr>\n      <th>2</th>\n      <td>2012-06-21 17:30:00</td>\n      <td>11.376667</td>\n      <td>11.406667</td>\n      <td>10.958333</td>\n      <td>10.973333</td>\n      <td>14863914</td>\n    </tr>\n    <tr>\n      <th>3</th>\n      <td>2012-06-22 17:30:00</td>\n      <td>11.040000</td>\n      <td>11.378333</td>\n      <td>10.950000</td>\n      <td>11.310000</td>\n      <td>13866198</td>\n    </tr>\n    <tr>\n      <th>4</th>\n      <td>2012-06-25 17:30:00</td>\n      <td>11.301667</td>\n      <td>11.588333</td>\n      <td>11.066667</td>\n      <td>11.171667</td>\n      <td>25099830</td>\n    </tr>\n  </tbody>\n</table>\n</div>"
     },
     "execution_count": 45,
     "metadata": {},
     "output_type": "execute_result"
    },
    {
     "data": {
      "text/plain": "<Figure size 432x288 with 1 Axes>",
      "image/png": "[encoded data removed]"
     },
     "metadata": {
      "needs_background": "light"
     },
     "output_type": "display_data"
    }
   ],
   "source": [
    "ticker = 'NFLX'\n",
    "filename = 'resources/NFLX/NFLX-day.parquet'\n",
    "data = pd.read_parquet(filename)\n",
    "\n",
    "def add_date_column(data):\n",
    "    dates = pd.DataFrame(data.index.values, columns=['date'])\n",
    "    size = len(data)\n",
    "    data.index = np.arange(0, size, 1)\n",
    "    return dates.join(data)\n",
    "\n",
    "\n",
    "def handle_splits(data):\n",
    "    def perform_split(coef, to_index):\n",
    "        data.loc[:to_index, 'open'] /= coef\n",
    "        data.loc[:to_index, 'high'] /= coef\n",
    "        data.loc[:to_index, 'low'] /= coef\n",
    "        data.loc[:to_index, 'close'] /= coef\n",
    "        data.loc[:to_index, 'vol'] *= coef\n",
    "\n",
    "    n = len(data)\n",
    "    for i in range(1, n):\n",
    "        prev = data.iloc[i - 1]\n",
    "        cur = data.iloc[i]\n",
    "        split_coef = int(round(prev['close'] / cur['open']))\n",
    "        if split_coef > 1:\n",
    "            perform_split(split_coef, i)\n",
    "    return data\n",
    "\n",
    "\n",
    "def plot_data(data):\n",
    "    X = np.arange(0, len(data), 1)\n",
    "    plt.plot(X, data['close'].values)\n",
    "\n",
    "\n",
    "data = add_date_column(data)\n",
    "plot_data(data)\n",
    "data.head()"
   ],
   "metadata": {
    "collapsed": false,
    "pycharm": {
     "name": "#%%\n"
    }
   }
  },
  {
   "cell_type": "code",
   "execution_count": 5,
   "outputs": [
    {
     "data": {
      "text/plain": "                 date     open   high     low    close     vol\n0 2011-07-15 16:30:00  14.1700  14.17  14.135  14.1350   69653\n1 2011-07-15 16:31:00  14.1350  14.16  14.110  14.1184   62534\n2 2011-07-15 16:32:00  14.1200  14.16  14.120  14.1600   92077\n3 2011-07-15 16:33:00  14.1600  14.16  14.120  14.1250  103168\n4 2011-07-15 16:34:00  14.1298  14.13  14.090  14.0900  113788",
      "text/html": "<div>\n<style scoped>\n    .dataframe tbody tr th:only-of-type {\n        vertical-align: middle;\n    }\n\n    .dataframe tbody tr th {\n        vertical-align: top;\n    }\n\n    .dataframe thead th {\n        text-align: right;\n    }\n</style>\n<table border=\"1\" class=\"dataframe\">\n  <thead>\n    <tr style=\"text-align: right;\">\n      <th></th>\n      <th>date</th>\n      <th>open</th>\n      <th>high</th>\n      <th>low</th>\n      <th>close</th>\n      <th>vol</th>\n    </tr>\n  </thead>\n  <tbody>\n    <tr>\n      <th>0</th>\n      <td>2011-07-15 16:30:00</td>\n      <td>14.1700</td>\n      <td>14.17</td>\n      <td>14.135</td>\n      <td>14.1350</td>\n      <td>69653</td>\n    </tr>\n    <tr>\n      <th>1</th>\n      <td>2011-07-15 16:31:00</td>\n      <td>14.1350</td>\n      <td>14.16</td>\n      <td>14.110</td>\n      <td>14.1184</td>\n      <td>62534</td>\n    </tr>\n    <tr>\n      <th>2</th>\n      <td>2011-07-15 16:32:00</td>\n      <td>14.1200</td>\n      <td>14.16</td>\n      <td>14.120</td>\n      <td>14.1600</td>\n      <td>92077</td>\n    </tr>\n    <tr>\n      <th>3</th>\n      <td>2011-07-15 16:33:00</td>\n      <td>14.1600</td>\n      <td>14.16</td>\n      <td>14.120</td>\n      <td>14.1250</td>\n      <td>103168</td>\n    </tr>\n    <tr>\n      <th>4</th>\n      <td>2011-07-15 16:34:00</td>\n      <td>14.1298</td>\n      <td>14.13</td>\n      <td>14.090</td>\n      <td>14.0900</td>\n      <td>113788</td>\n    </tr>\n  </tbody>\n</table>\n</div>"
     },
     "execution_count": 5,
     "metadata": {},
     "output_type": "execute_result"
    },
    {
     "data": {
      "text/plain": "<Figure size 432x288 with 1 Axes>",
      "image/png": "[encoded data removed]"
     },
     "metadata": {
      "needs_background": "light"
     },
     "output_type": "display_data"
    }
   ],
   "source": [
    "data = handle_splits(data)\n",
    "plot_data(data)\n",
    "data.head()"
   ],
   "metadata": {
    "collapsed": false,
    "pycharm": {
     "name": "#%%\n"
    }
   }
  },
  {
   "cell_type": "code",
   "execution_count": 6,
   "outputs": [],
   "source": [
    "data.to_parquet(f'resources/{ticker}/{ticker}-1min.parquet')"
   ],
   "metadata": {
    "collapsed": false,
    "pycharm": {
     "name": "#%%\n"
    }
   }
  },
  {
   "cell_type": "code",
   "execution_count": 7,
   "outputs": [],
   "source": [
    "def compress_candles(data, interval_type):\n",
    "    def find_open(candles):\n",
    "        return candles[0]['open']\n",
    "\n",
    "    def find_close(candles):\n",
    "        return candles[len(candles) - 1]['close']\n",
    "\n",
    "    def find_low(candles):\n",
    "        res = candles[0]['low']\n",
    "        for cur in candles:\n",
    "            if cur['low'] < res:\n",
    "                res = cur['low']\n",
    "        return res\n",
    "\n",
    "    def find_high(candles):\n",
    "        res = candles[0]['high']\n",
    "        for cur in candles:\n",
    "            if cur['high'] > res:\n",
    "                res = cur['high']\n",
    "        return res\n",
    "\n",
    "    def find_vol(candles):\n",
    "        res = 0\n",
    "        for cur in candles:\n",
    "            res += cur['vol']\n",
    "        return res\n",
    "\n",
    "    if interval_type == '5min':\n",
    "        interval = timedelta(minutes=5)\n",
    "    elif interval_type == '10min':\n",
    "        interval = timedelta(minutes=10)\n",
    "    elif interval_type == '15min':\n",
    "        interval = timedelta(minutes=15)\n",
    "    elif interval_type == '30min':\n",
    "        interval = timedelta(minutes=30)\n",
    "    elif interval_type == 'hour':\n",
    "        interval = timedelta(hours=1)\n",
    "    elif interval_type == '2hour':\n",
    "        interval = timedelta(hours=2)\n",
    "    elif interval_type == '4hour':\n",
    "        interval = timedelta(hours=4)\n",
    "    elif interval_type == 'day':\n",
    "        interval = timedelta(days=1)\n",
    "    else: raise ValueError(f'Not found interval type: {interval_type}')\n",
    "\n",
    "    new_candles = []\n",
    "    cur_time = data.iloc[0]['date']\n",
    "    cur_candles = []\n",
    "    for ind, candle in data.iterrows():\n",
    "        if cur_time <= candle['date'] < cur_time + interval:\n",
    "            cur_candles.append(candle)\n",
    "        else:\n",
    "            new_candles.append([cur_time, find_open(cur_candles), find_high(cur_candles),\n",
    "                                find_low(cur_candles), find_close(cur_candles), find_vol(cur_candles)])\n",
    "            cur_time = candle['date']\n",
    "            cur_candles = [candle]\n",
    "    return pd.DataFrame(new_candles, columns=['date', 'open', 'high', 'low', 'close', 'vol'])"
   ],
   "metadata": {
    "collapsed": false,
    "pycharm": {
     "name": "#%%\n"
    }
   }
  },
  {
   "cell_type": "code",
   "execution_count": 8,
   "outputs": [],
   "source": [
    "intervals = ['5min', '10min', '15min', '30min', 'hour', '2hour', '4hour', 'day']\n",
    "for interval in intervals:\n",
    "    compressed_data = compress_candles(data, interval)\n",
    "    compressed_data.to_parquet(f\"resources/{ticker}/{ticker}-{interval}.parquet\")"
   ],
   "metadata": {
    "collapsed": false,
    "pycharm": {
     "name": "#%%\n"
    }
   }
  },
  {
   "cell_type": "code",
   "execution_count": 9,
   "outputs": [],
   "source": [
    "# def split_by_days(data):\n",
    "#     n = len(data)\n",
    "#     first = data.iloc[0]['date']\n",
    "#     cur_time = datetime(first.year, first.month, first.day)\n",
    "#     last = data.iloc[n - 1]['date']\n",
    "#     end_time = datetime(last.year, last.month, last.day)\n",
    "#     days = []\n",
    "#     values = []\n",
    "#     while cur_time <= end_time:\n",
    "#         cur_values = data[(data['date'] > cur_time) & (data['date'] < cur_time + timedelta(days=1))]\n",
    "#         if len(cur_values) > 0:\n",
    "#             days.append(cur_time)\n",
    "#             values.append(cur_values)\n",
    "#         cur_time += timedelta(days = 1)\n",
    "#     return np.array(days), np.array(values)\n",
    "#\n",
    "# days, day_candles = split_by_days(data_5min)"
   ],
   "metadata": {
    "collapsed": false,
    "pycharm": {
     "name": "#%%\n"
    }
   }
  },
  {
   "cell_type": "code",
   "execution_count": 10,
   "outputs": [],
   "source": [
    "# def plot_candles(candles):\n",
    "#     fig = go.Figure(data=[go.Candlestick(x=candles['date'], open=candles['open'], high=candles['high'],\n",
    "#                                          low=candles['low'], close=candles['close'])],\n",
    "#                     layout=go.Layout(height=600, width=1000))\n",
    "#     fig.show()\n",
    "#\n",
    "# plot_candles(data_5min[0])\n"
   ],
   "metadata": {
    "collapsed": false,
    "pycharm": {
     "name": "#%%\n"
    }
   }
  }
 ],
 "metadata": {
  "kernelspec": {
   "display_name": "Python 3",
   "language": "python",
   "name": "python3"
  },
  "language_info": {
   "codemirror_mode": {
    "name": "ipython",
    "version": 2
   },
   "file_extension": ".py",
   "mimetype": "text/x-python",
   "name": "python",
   "nbconvert_exporter": "python",
   "pygments_lexer": "ipython2",
   "version": "2.7.6"
  }
 },
 "nbformat": 4,
 "nbformat_minor": 0
}